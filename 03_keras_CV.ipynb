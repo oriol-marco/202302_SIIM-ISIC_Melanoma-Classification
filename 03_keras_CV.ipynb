{
 "cells": [
  {
   "cell_type": "code",
   "execution_count": 23,
   "metadata": {},
   "outputs": [
    {
     "ename": "SyntaxError",
     "evalue": "invalid syntax (3456464010.py, line 11)",
     "output_type": "error",
     "traceback": [
      "\u001b[1;36m  Cell \u001b[1;32mIn[23], line 11\u001b[1;36m\u001b[0m\n\u001b[1;33m    from_tensorflow.keras import layers\u001b[0m\n\u001b[1;37m                          ^\u001b[0m\n\u001b[1;31mSyntaxError\u001b[0m\u001b[1;31m:\u001b[0m invalid syntax\n"
     ]
    }
   ],
   "source": [
    "import tensorflow as tf\n",
    "from tensorflow import keras\n",
    "import os\n",
    "import pandas as pd\n",
    "import numpy as np\n",
    "import matplotlib.pyplot as plt\n",
    "\n",
    "from keras.applications import ResNet50V2\n",
    "from sklearn.model_selection import StratifiedKFold\n",
    "from tensorflow.keras.models import load_model\n",
    "from_tensorflow.keras import layers\n",
    "\n",
    "tf.__version__"
   ]
  },
  {
   "cell_type": "code",
   "execution_count": 2,
   "metadata": {},
   "outputs": [
    {
     "data": {
      "text/plain": [
       "['archive (12).zip',\n",
       " 'jpeg224',\n",
       " 'sample_submission.csv',\n",
       " 'test.csv',\n",
       " 'train.csv',\n",
       " 'train_split.csv',\n",
       " 'val_split.csv',\n",
       " 'subset.csv']"
      ]
     },
     "execution_count": 2,
     "metadata": {},
     "output_type": "execute_result"
    }
   ],
   "source": [
    "PATH = 'data'\n",
    "\n",
    "os.listdir(PATH)"
   ]
  },
  {
   "cell_type": "code",
   "execution_count": 22,
   "metadata": {},
   "outputs": [
    {
     "data": {
      "text/plain": [
       "((2220, 8),)"
      ]
     },
     "execution_count": 22,
     "metadata": {},
     "output_type": "execute_result"
    }
   ],
   "source": [
    "train = pd.read_csv(f'{PATH}/subset.csv')\n",
    "\n",
    "#val = pd.read_csv(f'{PATH}/val_split.csv')\n",
    "\n",
    "test = pd.read_csv(f'{PATH}/test.csv')\n",
    "\n",
    "train.shape,# val.shape, test.shape"
   ]
  },
  {
   "cell_type": "code",
   "execution_count": 4,
   "metadata": {},
   "outputs": [
    {
     "data": {
      "text/html": [
       "<div>\n",
       "<style scoped>\n",
       "    .dataframe tbody tr th:only-of-type {\n",
       "        vertical-align: middle;\n",
       "    }\n",
       "\n",
       "    .dataframe tbody tr th {\n",
       "        vertical-align: top;\n",
       "    }\n",
       "\n",
       "    .dataframe thead th {\n",
       "        text-align: right;\n",
       "    }\n",
       "</style>\n",
       "<table border=\"1\" class=\"dataframe\">\n",
       "  <thead>\n",
       "    <tr style=\"text-align: right;\">\n",
       "      <th></th>\n",
       "      <th>image_name</th>\n",
       "      <th>patient_id</th>\n",
       "      <th>sex</th>\n",
       "      <th>age_approx</th>\n",
       "      <th>anatom_site_general_challenge</th>\n",
       "      <th>diagnosis</th>\n",
       "      <th>benign_malignant</th>\n",
       "      <th>target</th>\n",
       "    </tr>\n",
       "  </thead>\n",
       "  <tbody>\n",
       "    <tr>\n",
       "      <th>0</th>\n",
       "      <td>ISIC_0533349</td>\n",
       "      <td>IP_5208504</td>\n",
       "      <td>female</td>\n",
       "      <td>45.0</td>\n",
       "      <td>lower extremity</td>\n",
       "      <td>unknown</td>\n",
       "      <td>benign</td>\n",
       "      <td>0</td>\n",
       "    </tr>\n",
       "    <tr>\n",
       "      <th>1</th>\n",
       "      <td>ISIC_8814612</td>\n",
       "      <td>IP_0414408</td>\n",
       "      <td>male</td>\n",
       "      <td>50.0</td>\n",
       "      <td>torso</td>\n",
       "      <td>unknown</td>\n",
       "      <td>benign</td>\n",
       "      <td>0</td>\n",
       "    </tr>\n",
       "    <tr>\n",
       "      <th>2</th>\n",
       "      <td>ISIC_6515241</td>\n",
       "      <td>IP_6245507</td>\n",
       "      <td>male</td>\n",
       "      <td>45.0</td>\n",
       "      <td>lower extremity</td>\n",
       "      <td>unknown</td>\n",
       "      <td>benign</td>\n",
       "      <td>0</td>\n",
       "    </tr>\n",
       "    <tr>\n",
       "      <th>3</th>\n",
       "      <td>ISIC_5075261</td>\n",
       "      <td>IP_2117218</td>\n",
       "      <td>male</td>\n",
       "      <td>40.0</td>\n",
       "      <td>upper extremity</td>\n",
       "      <td>unknown</td>\n",
       "      <td>benign</td>\n",
       "      <td>0</td>\n",
       "    </tr>\n",
       "    <tr>\n",
       "      <th>4</th>\n",
       "      <td>ISIC_2624460</td>\n",
       "      <td>IP_1969685</td>\n",
       "      <td>male</td>\n",
       "      <td>50.0</td>\n",
       "      <td>torso</td>\n",
       "      <td>unknown</td>\n",
       "      <td>benign</td>\n",
       "      <td>0</td>\n",
       "    </tr>\n",
       "  </tbody>\n",
       "</table>\n",
       "</div>"
      ],
      "text/plain": [
       "     image_name  patient_id     sex  age_approx anatom_site_general_challenge  \\\n",
       "0  ISIC_0533349  IP_5208504  female        45.0               lower extremity   \n",
       "1  ISIC_8814612  IP_0414408    male        50.0                         torso   \n",
       "2  ISIC_6515241  IP_6245507    male        45.0               lower extremity   \n",
       "3  ISIC_5075261  IP_2117218    male        40.0               upper extremity   \n",
       "4  ISIC_2624460  IP_1969685    male        50.0                         torso   \n",
       "\n",
       "  diagnosis benign_malignant  target  \n",
       "0   unknown           benign       0  \n",
       "1   unknown           benign       0  \n",
       "2   unknown           benign       0  \n",
       "3   unknown           benign       0  \n",
       "4   unknown           benign       0  "
      ]
     },
     "execution_count": 4,
     "metadata": {},
     "output_type": "execute_result"
    }
   ],
   "source": [
    "train.head()"
   ]
  },
  {
   "cell_type": "code",
   "execution_count": 6,
   "metadata": {},
   "outputs": [],
   "source": [
    "BATCH_SIZE = 64\n",
    "\n",
    "AUTO = tf.data.experimental.AUTOTUNE\n",
    "\n",
    "def decode(name, label):\n",
    "    img = tf.io.read_file(name)\n",
    "    img = tf.image.decode_jpeg(img, channels=3)\n",
    "    img = tf.cast(img, tf.float32) \n",
    "    return img, label\n",
    "\n",
    "\n",
    "def load_ds(df):\n",
    "    options = tf.data.Options()\n",
    "    options.experimental_deterministic = False\n",
    "    imgs, labels = df[\"image_name\"].values, df[\"target\"].values\n",
    "    imgs = [f'{PATH}/jpeg224//train/{name}.jpg' for name in imgs]\n",
    "    ds = tf.data.Dataset.from_tensor_slices((imgs, labels))\n",
    "    ds = ds.with_options(options)\n",
    "    ds = ds.map(decode, num_parallel_calls=AUTO)\n",
    "    ds = ds.cache()\n",
    "    ds = ds.shuffle(2048)\n",
    "    ds = ds.batch(BATCH_SIZE)\n",
    "    #ds = ds.prefetch(buffer_size=AUTO)\n",
    "    return ds"
   ]
  },
  {
   "cell_type": "code",
   "execution_count": 16,
   "metadata": {},
   "outputs": [
    {
     "name": "stdout",
     "output_type": "stream",
     "text": [
      "Fold:  1\n",
      "Epoch 1/10\n",
      "24/24 [==============================] - 105s 4s/step - loss: 0.3039 - auc: 0.4675 - val_loss: 0.1284 - val_auc: 0.3678\n",
      "Epoch 2/10\n",
      "24/24 [==============================] - 95s 4s/step - loss: 0.1170 - auc: 0.4511 - val_loss: 0.1239 - val_auc: 0.3908\n",
      "Epoch 3/10\n",
      "24/24 [==============================] - 88s 4s/step - loss: 0.1056 - auc: 0.4634 - val_loss: 0.1138 - val_auc: 0.4046\n",
      "Epoch 4/10\n",
      "24/24 [==============================] - 93s 4s/step - loss: 0.0933 - auc: 0.5778 - val_loss: 0.1079 - val_auc: 0.3982\n",
      "Epoch 5/10\n",
      "24/24 [==============================] - 93s 4s/step - loss: 0.0855 - auc: 0.7047 - val_loss: 0.1024 - val_auc: 0.4849\n",
      "Epoch 6/10\n",
      "24/24 [==============================] - 87s 4s/step - loss: 0.0765 - auc: 0.8044 - val_loss: 0.0979 - val_auc: 0.5422\n",
      "Epoch 7/10\n",
      "24/24 [==============================] - 90s 4s/step - loss: 0.0704 - auc: 0.8588 - val_loss: 0.0955 - val_auc: 0.5900\n",
      "Epoch 8/10\n",
      "24/24 [==============================] - 91s 4s/step - loss: 0.0657 - auc: 0.9120 - val_loss: 0.0941 - val_auc: 0.6150\n",
      "Epoch 9/10\n",
      "24/24 [==============================] - 89s 4s/step - loss: 0.0622 - auc: 0.9237 - val_loss: 0.0938 - val_auc: 0.5955\n",
      "Epoch 10/10\n",
      "24/24 [==============================] - 76s 3s/step - loss: 0.0589 - auc: 0.9387 - val_loss: 0.0937 - val_auc: 0.6015\n",
      "12/12 [==============================] - 26s 2s/step - loss: 0.0941 - auc: 0.6150\n",
      "Fold:  2\n",
      "Epoch 1/10\n",
      "24/24 [==============================] - 85s 3s/step - loss: 0.3245 - auc: 0.5063 - val_loss: 0.1306 - val_auc: 0.3212\n",
      "Epoch 2/10\n",
      "24/24 [==============================] - 76s 3s/step - loss: 0.1248 - auc: 0.3988 - val_loss: 0.1292 - val_auc: 0.3811\n",
      "Epoch 3/10\n",
      "24/24 [==============================] - 76s 3s/step - loss: 0.1155 - auc: 0.4380 - val_loss: 0.1146 - val_auc: 0.4290\n",
      "Epoch 4/10\n",
      "24/24 [==============================] - 79s 3s/step - loss: 0.1032 - auc: 0.5082 - val_loss: 0.1026 - val_auc: 0.5008\n",
      "Epoch 5/10\n",
      "24/24 [==============================] - 94s 4s/step - loss: 0.0936 - auc: 0.5985 - val_loss: 0.0955 - val_auc: 0.5799\n",
      "Epoch 6/10\n",
      "24/24 [==============================] - 84s 4s/step - loss: 0.0876 - auc: 0.6919 - val_loss: 0.0890 - val_auc: 0.6360\n",
      "Epoch 7/10\n",
      "24/24 [==============================] - 102s 4s/step - loss: 0.0814 - auc: 0.7543 - val_loss: 0.0853 - val_auc: 0.6778\n",
      "Epoch 8/10\n",
      "24/24 [==============================] - 90s 4s/step - loss: 0.0766 - auc: 0.8054 - val_loss: 0.0822 - val_auc: 0.7012\n",
      "Epoch 9/10\n",
      "24/24 [==============================] - 101s 4s/step - loss: 0.0730 - auc: 0.8193 - val_loss: 0.0807 - val_auc: 0.7413\n",
      "Epoch 10/10\n",
      "24/24 [==============================] - 101s 4s/step - loss: 0.0704 - auc: 0.8367 - val_loss: 0.0789 - val_auc: 0.7447\n",
      "12/12 [==============================] - 31s 3s/step - loss: 0.0789 - auc: 0.7447\n",
      "Fold:  3\n",
      "Epoch 1/10\n",
      "24/24 [==============================] - 108s 4s/step - loss: 0.2755 - auc: 0.4657 - val_loss: 0.1027 - val_auc: 0.5653\n",
      "Epoch 2/10\n",
      "24/24 [==============================] - 90s 4s/step - loss: 0.1139 - auc: 0.4100 - val_loss: 0.1002 - val_auc: 0.5746\n",
      "Epoch 3/10\n",
      "24/24 [==============================] - 92s 4s/step - loss: 0.1026 - auc: 0.4603 - val_loss: 0.0948 - val_auc: 0.5779\n",
      "Epoch 4/10\n",
      "24/24 [==============================] - 93s 4s/step - loss: 0.0932 - auc: 0.5748 - val_loss: 0.0920 - val_auc: 0.6107\n",
      "Epoch 5/10\n",
      "24/24 [==============================] - 92s 4s/step - loss: 0.0854 - auc: 0.6704 - val_loss: 0.0899 - val_auc: 0.6302\n",
      "Epoch 6/10\n",
      "24/24 [==============================] - 94s 4s/step - loss: 0.0794 - auc: 0.7385 - val_loss: 0.0887 - val_auc: 0.6486\n",
      "Epoch 7/10\n",
      "24/24 [==============================] - 92s 4s/step - loss: 0.0747 - auc: 0.8006 - val_loss: 0.0887 - val_auc: 0.6811\n",
      "Epoch 8/10\n",
      "24/24 [==============================] - 90s 4s/step - loss: 0.0706 - auc: 0.8466 - val_loss: 0.0895 - val_auc: 0.6728\n",
      "Epoch 9/10\n",
      "24/24 [==============================] - 88s 4s/step - loss: 0.0666 - auc: 0.8615 - val_loss: 0.0892 - val_auc: 0.6537\n",
      "Epoch 10/10\n",
      "24/24 [==============================] - 88s 4s/step - loss: 0.0642 - auc: 0.8739 - val_loss: 0.0886 - val_auc: 0.6715\n",
      "12/12 [==============================] - 31s 3s/step - loss: 0.0887 - auc: 0.6811\n"
     ]
    }
   ],
   "source": [
    "FOLDS = 3\n",
    "aucs = []\n",
    "\n",
    "skf = StratifiedKFold(n_splits=FOLDS, shuffle=True, random_state=42)\n",
    "for f, (train_idx, val_idx) in enumerate(skf.split(X=np.zeros(len(train)), y=train['target'])):\n",
    "    print(\"Fold: \", f+1)\n",
    "\n",
    "    train_fold = train.iloc[train_idx]\n",
    "    val_fold = train.iloc[val_idx]   \n",
    "\n",
    "    train_ds = load_ds(train_fold)\n",
    "    val_ds = load_ds(val_fold)\n",
    "\n",
    "    IMAGE_SIZE = (224, 224, 3)\n",
    "\n",
    "    encoder = ResNet50V2(\n",
    "        include_top=False,\n",
    "        input_shape=IMAGE_SIZE,\n",
    "        weights='imagenet'\n",
    "    )\n",
    "\n",
    "    encoder.trainable = False\n",
    "\n",
    "    inputs = tf.keras.Input(shape=IMAGE_SIZE)\n",
    "    x = tf.keras.layers.experimental.preprocessing.Rescaling(1./255)(inputs)\n",
    "    x = encoder(x, training=False)\n",
    "    x = tf.keras.layers.GlobalAveragePooling2D()(x)\n",
    "    outputs = tf.keras.layers.Dense(1, activation='sigmoid')(x)\n",
    "\n",
    "    model = tf.keras.Model(inputs, outputs)\n",
    "    #model.summary()\n",
    "    \n",
    "    model.compile(\n",
    "        optimizer='adam',\n",
    "        loss='binary_crossentropy',\n",
    "        metrics=[keras.metrics.AUC(name='auc')]\n",
    "    )\n",
    "    \n",
    "    filepath = './checkpoints/checkpoints'\n",
    "    cb = tf.keras.callbacks.ModelCheckpoint(\n",
    "        filepath = filepath,\n",
    "        monitor = \"val_auc\",\n",
    "        verbose = 0,\n",
    "        save_best_only = True,\n",
    "        save_weights_only = True,\n",
    "        mode = \"max\"\n",
    "    )\n",
    "    \n",
    "    model.fit(\n",
    "        train_ds, \n",
    "        epochs=10, \n",
    "        validation_data=val_ds, \n",
    "        #validation_steps=10,\n",
    "        callbacks = [cb]\n",
    "    )\n",
    "    \n",
    "    model.load_weights(filepath)\n",
    "    model.save(f\"model_fold {f+1}.h5\")\n",
    "    \n",
    "    _, auc = model.evaluate(val_ds)\n",
    "    aucs.append(auc)\n",
    "    "
   ]
  },
  {
   "cell_type": "code",
   "execution_count": 17,
   "metadata": {},
   "outputs": [
    {
     "data": {
      "text/plain": [
       "[0.6150143146514893, 0.7447360157966614, 0.6810920238494873]"
      ]
     },
     "execution_count": 17,
     "metadata": {},
     "output_type": "execute_result"
    }
   ],
   "source": [
    "aucs"
   ]
  },
  {
   "cell_type": "code",
   "execution_count": 18,
   "metadata": {},
   "outputs": [
    {
     "data": {
      "text/plain": [
       "(0.6802807847658793, 0.052961769347567536)"
      ]
     },
     "execution_count": 18,
     "metadata": {},
     "output_type": "execute_result"
    }
   ],
   "source": [
    "np.mean(aucs), np.std(aucs)"
   ]
  },
  {
   "cell_type": "code",
   "execution_count": 19,
   "metadata": {},
   "outputs": [],
   "source": [
    "BATCH_SIZE = 256\n",
    "\n",
    "def decode_test(name):\n",
    "    img = tf.io.read_file(name)\n",
    "    img = tf.image.decode_jpeg(img, channels=3)\n",
    "    img = tf.cast(img, tf.float32) \n",
    "    return img\n",
    "\n",
    "\n",
    "def load_test_ds(df):\n",
    "    imgs = df[\"image_name\"].values\n",
    "    imgs = [f'{PATH}/jpeg224/test/{name}.jpg' for name in imgs]\n",
    "    ds = tf.data.Dataset.from_tensor_slices(imgs)\n",
    "    ds = ds.map(decode_test, num_parallel_calls=AUTO)\n",
    "    ds = ds.batch(BATCH_SIZE)\n",
    "    return ds"
   ]
  },
  {
   "cell_type": "code",
   "execution_count": 20,
   "metadata": {},
   "outputs": [],
   "source": [
    "test_ds = load_test_ds(test)"
   ]
  },
  {
   "cell_type": "code",
   "execution_count": 21,
   "metadata": {},
   "outputs": [
    {
     "name": "stdout",
     "output_type": "stream",
     "text": [
      "Fold: 1\n",
      "43/43 [==============================] - 414s 10s/step\n",
      "Fold: 2\n",
      "43/43 [==============================] - 444s 10s/step\n",
      "Fold: 3\n",
      "43/43 [==============================] - 440s 10s/step\n"
     ]
    }
   ],
   "source": [
    "preds = []\n",
    "for f in range(1, FOLDS+1):\n",
    "    print(f\"Fold: {f}\")\n",
    "    model_fold = tf.keras.models.load_model(f\"model_fold {f}.h5\")\n",
    "    probas = model_fold.predict(test_ds)\n",
    "    preds.append(probas)"
   ]
  },
  {
   "cell_type": "code",
   "execution_count": 24,
   "metadata": {},
   "outputs": [
    {
     "data": {
      "text/plain": [
       "[array([[0.02105139],\n",
       "        [0.00125025],\n",
       "        [0.02116091],\n",
       "        ...,\n",
       "        [0.02618294],\n",
       "        [0.00495866],\n",
       "        [0.04358496]], dtype=float32),\n",
       " array([[0.00426918],\n",
       "        [0.02951675],\n",
       "        [0.02794935],\n",
       "        ...,\n",
       "        [0.02703756],\n",
       "        [0.00152806],\n",
       "        [0.05563672]], dtype=float32),\n",
       " array([[0.01446082],\n",
       "        [0.00740031],\n",
       "        [0.01693306],\n",
       "        ...,\n",
       "        [0.02398477],\n",
       "        [0.00716682],\n",
       "        [0.03772961]], dtype=float32)]"
      ]
     },
     "execution_count": 24,
     "metadata": {},
     "output_type": "execute_result"
    }
   ],
   "source": [
    "preds"
   ]
  },
  {
   "cell_type": "code",
   "execution_count": 25,
   "metadata": {},
   "outputs": [
    {
     "data": {
      "text/plain": [
       "array([[0.01326046],\n",
       "       [0.01272244],\n",
       "       [0.02201444],\n",
       "       ...,\n",
       "       [0.02573509],\n",
       "       [0.00455118],\n",
       "       [0.04565043]], dtype=float32)"
      ]
     },
     "execution_count": 25,
     "metadata": {},
     "output_type": "execute_result"
    }
   ],
   "source": [
    "preds_mean = np.mean(preds, axis=0)\n",
    "preds_mean"
   ]
  },
  {
   "cell_type": "code",
   "execution_count": 26,
   "metadata": {},
   "outputs": [
    {
     "data": {
      "text/html": [
       "<div>\n",
       "<style scoped>\n",
       "    .dataframe tbody tr th:only-of-type {\n",
       "        vertical-align: middle;\n",
       "    }\n",
       "\n",
       "    .dataframe tbody tr th {\n",
       "        vertical-align: top;\n",
       "    }\n",
       "\n",
       "    .dataframe thead th {\n",
       "        text-align: right;\n",
       "    }\n",
       "</style>\n",
       "<table border=\"1\" class=\"dataframe\">\n",
       "  <thead>\n",
       "    <tr style=\"text-align: right;\">\n",
       "      <th></th>\n",
       "      <th>image_name</th>\n",
       "      <th>target</th>\n",
       "    </tr>\n",
       "  </thead>\n",
       "  <tbody>\n",
       "    <tr>\n",
       "      <th>0</th>\n",
       "      <td>ISIC_0052060</td>\n",
       "      <td>0.013260</td>\n",
       "    </tr>\n",
       "    <tr>\n",
       "      <th>1</th>\n",
       "      <td>ISIC_0052349</td>\n",
       "      <td>0.012722</td>\n",
       "    </tr>\n",
       "    <tr>\n",
       "      <th>2</th>\n",
       "      <td>ISIC_0058510</td>\n",
       "      <td>0.022014</td>\n",
       "    </tr>\n",
       "    <tr>\n",
       "      <th>3</th>\n",
       "      <td>ISIC_0073313</td>\n",
       "      <td>0.003465</td>\n",
       "    </tr>\n",
       "    <tr>\n",
       "      <th>4</th>\n",
       "      <td>ISIC_0073502</td>\n",
       "      <td>0.007031</td>\n",
       "    </tr>\n",
       "  </tbody>\n",
       "</table>\n",
       "</div>"
      ],
      "text/plain": [
       "     image_name    target\n",
       "0  ISIC_0052060  0.013260\n",
       "1  ISIC_0052349  0.012722\n",
       "2  ISIC_0058510  0.022014\n",
       "3  ISIC_0073313  0.003465\n",
       "4  ISIC_0073502  0.007031"
      ]
     },
     "execution_count": 26,
     "metadata": {},
     "output_type": "execute_result"
    }
   ],
   "source": [
    "submission = pd.DataFrame({\n",
    "    'image_name': test['image_name'].values,\n",
    "    'target': preds_mean.ravel()\n",
    "})\n",
    "\n",
    "submission.head()"
   ]
  },
  {
   "cell_type": "code",
   "execution_count": 27,
   "metadata": {},
   "outputs": [],
   "source": [
    "submission.to_csv('submission.csv', index=False)"
   ]
  }
 ],
 "metadata": {
  "kernelspec": {
   "display_name": "melanoma",
   "language": "python",
   "name": "python3"
  },
  "language_info": {
   "codemirror_mode": {
    "name": "ipython",
    "version": 3
   },
   "file_extension": ".py",
   "mimetype": "text/x-python",
   "name": "python",
   "nbconvert_exporter": "python",
   "pygments_lexer": "ipython3",
   "version": "3.10.9"
  },
  "orig_nbformat": 4,
  "vscode": {
   "interpreter": {
    "hash": "2bcdb6e3a5d26e4b59c320dc40af6bce74732a62532a048b1475f18e6264e5f8"
   }
  }
 },
 "nbformat": 4,
 "nbformat_minor": 2
}
